{
 "cells": [
  {
   "cell_type": "markdown",
   "id": "40424abc",
   "metadata": {},
   "source": [
    "# Mixture Models\n",
    "\n",
    "\n",
    "Notebook to play around with the Iris dataset and Mixture Models\n"
   ]
  },
  {
   "cell_type": "code",
   "execution_count": 1,
   "id": "3a20e434",
   "metadata": {},
   "outputs": [
    {
     "name": "stderr",
     "output_type": "stream",
     "text": [
      "WARNING (theano.tensor.blas): Using NumPy C-API based implementation for BLAS functions.\n"
     ]
    },
    {
     "data": {
      "application/javascript": [
       "\n",
       "            setTimeout(function() {\n",
       "                var nbb_cell_id = 1;\n",
       "                var nbb_unformatted_code = \"%load_ext nb_black\\nimport seaborn as sns\\nimport pymc3 as pm\\nimport pandas as pd\\nimport numpy as np\\nimport arviz as az\";\n",
       "                var nbb_formatted_code = \"%load_ext nb_black\\nimport seaborn as sns\\nimport pymc3 as pm\\nimport pandas as pd\\nimport numpy as np\\nimport arviz as az\";\n",
       "                var nbb_cells = Jupyter.notebook.get_cells();\n",
       "                for (var i = 0; i < nbb_cells.length; ++i) {\n",
       "                    if (nbb_cells[i].input_prompt_number == nbb_cell_id) {\n",
       "                        if (nbb_cells[i].get_text() == nbb_unformatted_code) {\n",
       "                             nbb_cells[i].set_text(nbb_formatted_code);\n",
       "                        }\n",
       "                        break;\n",
       "                    }\n",
       "                }\n",
       "            }, 500);\n",
       "            "
      ],
      "text/plain": [
       "<IPython.core.display.Javascript object>"
      ]
     },
     "metadata": {},
     "output_type": "display_data"
    }
   ],
   "source": [
    "%load_ext nb_black\n",
    "import seaborn as sns\n",
    "import pymc3 as pm\n",
    "import pandas as pd\n",
    "import numpy as np\n",
    "import arviz as az"
   ]
  },
  {
   "cell_type": "code",
   "execution_count": 2,
   "id": "1fd3cb66",
   "metadata": {},
   "outputs": [
    {
     "data": {
      "text/html": [
       "<div>\n",
       "<style scoped>\n",
       "    .dataframe tbody tr th:only-of-type {\n",
       "        vertical-align: middle;\n",
       "    }\n",
       "\n",
       "    .dataframe tbody tr th {\n",
       "        vertical-align: top;\n",
       "    }\n",
       "\n",
       "    .dataframe thead th {\n",
       "        text-align: right;\n",
       "    }\n",
       "</style>\n",
       "<table border=\"1\" class=\"dataframe\">\n",
       "  <thead>\n",
       "    <tr style=\"text-align: right;\">\n",
       "      <th></th>\n",
       "      <th>sepal_length</th>\n",
       "      <th>sepal_width</th>\n",
       "      <th>petal_length</th>\n",
       "      <th>petal_width</th>\n",
       "      <th>species</th>\n",
       "    </tr>\n",
       "  </thead>\n",
       "  <tbody>\n",
       "    <tr>\n",
       "      <th>0</th>\n",
       "      <td>5.1</td>\n",
       "      <td>3.5</td>\n",
       "      <td>1.4</td>\n",
       "      <td>0.2</td>\n",
       "      <td>setosa</td>\n",
       "    </tr>\n",
       "    <tr>\n",
       "      <th>1</th>\n",
       "      <td>4.9</td>\n",
       "      <td>3.0</td>\n",
       "      <td>1.4</td>\n",
       "      <td>0.2</td>\n",
       "      <td>setosa</td>\n",
       "    </tr>\n",
       "    <tr>\n",
       "      <th>2</th>\n",
       "      <td>4.7</td>\n",
       "      <td>3.2</td>\n",
       "      <td>1.3</td>\n",
       "      <td>0.2</td>\n",
       "      <td>setosa</td>\n",
       "    </tr>\n",
       "    <tr>\n",
       "      <th>3</th>\n",
       "      <td>4.6</td>\n",
       "      <td>3.1</td>\n",
       "      <td>1.5</td>\n",
       "      <td>0.2</td>\n",
       "      <td>setosa</td>\n",
       "    </tr>\n",
       "    <tr>\n",
       "      <th>4</th>\n",
       "      <td>5.0</td>\n",
       "      <td>3.6</td>\n",
       "      <td>1.4</td>\n",
       "      <td>0.2</td>\n",
       "      <td>setosa</td>\n",
       "    </tr>\n",
       "    <tr>\n",
       "      <th>...</th>\n",
       "      <td>...</td>\n",
       "      <td>...</td>\n",
       "      <td>...</td>\n",
       "      <td>...</td>\n",
       "      <td>...</td>\n",
       "    </tr>\n",
       "    <tr>\n",
       "      <th>145</th>\n",
       "      <td>6.7</td>\n",
       "      <td>3.0</td>\n",
       "      <td>5.2</td>\n",
       "      <td>2.3</td>\n",
       "      <td>virginica</td>\n",
       "    </tr>\n",
       "    <tr>\n",
       "      <th>146</th>\n",
       "      <td>6.3</td>\n",
       "      <td>2.5</td>\n",
       "      <td>5.0</td>\n",
       "      <td>1.9</td>\n",
       "      <td>virginica</td>\n",
       "    </tr>\n",
       "    <tr>\n",
       "      <th>147</th>\n",
       "      <td>6.5</td>\n",
       "      <td>3.0</td>\n",
       "      <td>5.2</td>\n",
       "      <td>2.0</td>\n",
       "      <td>virginica</td>\n",
       "    </tr>\n",
       "    <tr>\n",
       "      <th>148</th>\n",
       "      <td>6.2</td>\n",
       "      <td>3.4</td>\n",
       "      <td>5.4</td>\n",
       "      <td>2.3</td>\n",
       "      <td>virginica</td>\n",
       "    </tr>\n",
       "    <tr>\n",
       "      <th>149</th>\n",
       "      <td>5.9</td>\n",
       "      <td>3.0</td>\n",
       "      <td>5.1</td>\n",
       "      <td>1.8</td>\n",
       "      <td>virginica</td>\n",
       "    </tr>\n",
       "  </tbody>\n",
       "</table>\n",
       "<p>150 rows × 5 columns</p>\n",
       "</div>"
      ],
      "text/plain": [
       "     sepal_length  sepal_width  petal_length  petal_width    species\n",
       "0             5.1          3.5           1.4          0.2     setosa\n",
       "1             4.9          3.0           1.4          0.2     setosa\n",
       "2             4.7          3.2           1.3          0.2     setosa\n",
       "3             4.6          3.1           1.5          0.2     setosa\n",
       "4             5.0          3.6           1.4          0.2     setosa\n",
       "..            ...          ...           ...          ...        ...\n",
       "145           6.7          3.0           5.2          2.3  virginica\n",
       "146           6.3          2.5           5.0          1.9  virginica\n",
       "147           6.5          3.0           5.2          2.0  virginica\n",
       "148           6.2          3.4           5.4          2.3  virginica\n",
       "149           5.9          3.0           5.1          1.8  virginica\n",
       "\n",
       "[150 rows x 5 columns]"
      ]
     },
     "execution_count": 2,
     "metadata": {},
     "output_type": "execute_result"
    },
    {
     "data": {
      "application/javascript": [
       "\n",
       "            setTimeout(function() {\n",
       "                var nbb_cell_id = 2;\n",
       "                var nbb_unformatted_code = \"iris_df = sns.load_dataset(\\\"iris\\\")\\niris_df\";\n",
       "                var nbb_formatted_code = \"iris_df = sns.load_dataset(\\\"iris\\\")\\niris_df\";\n",
       "                var nbb_cells = Jupyter.notebook.get_cells();\n",
       "                for (var i = 0; i < nbb_cells.length; ++i) {\n",
       "                    if (nbb_cells[i].input_prompt_number == nbb_cell_id) {\n",
       "                        if (nbb_cells[i].get_text() == nbb_unformatted_code) {\n",
       "                             nbb_cells[i].set_text(nbb_formatted_code);\n",
       "                        }\n",
       "                        break;\n",
       "                    }\n",
       "                }\n",
       "            }, 500);\n",
       "            "
      ],
      "text/plain": [
       "<IPython.core.display.Javascript object>"
      ]
     },
     "metadata": {},
     "output_type": "display_data"
    }
   ],
   "source": [
    "iris_df = sns.load_dataset(\"iris\")\n",
    "iris_df"
   ]
  },
  {
   "cell_type": "code",
   "execution_count": 3,
   "id": "31203368",
   "metadata": {},
   "outputs": [
    {
     "data": {
      "image/png": "[encoded data removed]",
      "text/plain": [
       "<Figure size 432x288 with 1 Axes>"
      ]
     },
     "metadata": {
      "needs_background": "light"
     },
     "output_type": "display_data"
    },
    {
     "data": {
      "application/javascript": [
       "\n",
       "            setTimeout(function() {\n",
       "                var nbb_cell_id = 3;\n",
       "                var nbb_unformatted_code = \"_ = sns.histplot(iris_df.sepal_length)\";\n",
       "                var nbb_formatted_code = \"_ = sns.histplot(iris_df.sepal_length)\";\n",
       "                var nbb_cells = Jupyter.notebook.get_cells();\n",
       "                for (var i = 0; i < nbb_cells.length; ++i) {\n",
       "                    if (nbb_cells[i].input_prompt_number == nbb_cell_id) {\n",
       "                        if (nbb_cells[i].get_text() == nbb_unformatted_code) {\n",
       "                             nbb_cells[i].set_text(nbb_formatted_code);\n",
       "                        }\n",
       "                        break;\n",
       "                    }\n",
       "                }\n",
       "            }, 500);\n",
       "            "
      ],
      "text/plain": [
       "<IPython.core.display.Javascript object>"
      ]
     },
     "metadata": {},
     "output_type": "display_data"
    }
   ],
   "source": [
    "_ = sns.histplot(iris_df.sepal_length)"
   ]
  },
  {
   "cell_type": "code",
   "execution_count": 4,
   "id": "4aa27a66",
   "metadata": {},
   "outputs": [
    {
     "data": {
      "text/html": [
       "<div>\n",
       "<style scoped>\n",
       "    .dataframe tbody tr th:only-of-type {\n",
       "        vertical-align: middle;\n",
       "    }\n",
       "\n",
       "    .dataframe tbody tr th {\n",
       "        vertical-align: top;\n",
       "    }\n",
       "\n",
       "    .dataframe thead th {\n",
       "        text-align: right;\n",
       "    }\n",
       "</style>\n",
       "<table border=\"1\" class=\"dataframe\">\n",
       "  <thead>\n",
       "    <tr style=\"text-align: right;\">\n",
       "      <th></th>\n",
       "      <th>sepal_length</th>\n",
       "      <th>sepal_width</th>\n",
       "      <th>petal_length</th>\n",
       "      <th>petal_width</th>\n",
       "      <th>species</th>\n",
       "    </tr>\n",
       "  </thead>\n",
       "  <tbody>\n",
       "    <tr>\n",
       "      <th>0</th>\n",
       "      <td>-0.900681</td>\n",
       "      <td>1.019004</td>\n",
       "      <td>-1.340227</td>\n",
       "      <td>-1.315444</td>\n",
       "      <td>setosa</td>\n",
       "    </tr>\n",
       "    <tr>\n",
       "      <th>1</th>\n",
       "      <td>-1.143017</td>\n",
       "      <td>-0.131979</td>\n",
       "      <td>-1.340227</td>\n",
       "      <td>-1.315444</td>\n",
       "      <td>setosa</td>\n",
       "    </tr>\n",
       "    <tr>\n",
       "      <th>2</th>\n",
       "      <td>-1.385353</td>\n",
       "      <td>0.328414</td>\n",
       "      <td>-1.397064</td>\n",
       "      <td>-1.315444</td>\n",
       "      <td>setosa</td>\n",
       "    </tr>\n",
       "    <tr>\n",
       "      <th>3</th>\n",
       "      <td>-1.506521</td>\n",
       "      <td>0.098217</td>\n",
       "      <td>-1.283389</td>\n",
       "      <td>-1.315444</td>\n",
       "      <td>setosa</td>\n",
       "    </tr>\n",
       "    <tr>\n",
       "      <th>4</th>\n",
       "      <td>-1.021849</td>\n",
       "      <td>1.249201</td>\n",
       "      <td>-1.340227</td>\n",
       "      <td>-1.315444</td>\n",
       "      <td>setosa</td>\n",
       "    </tr>\n",
       "    <tr>\n",
       "      <th>...</th>\n",
       "      <td>...</td>\n",
       "      <td>...</td>\n",
       "      <td>...</td>\n",
       "      <td>...</td>\n",
       "      <td>...</td>\n",
       "    </tr>\n",
       "    <tr>\n",
       "      <th>145</th>\n",
       "      <td>1.038005</td>\n",
       "      <td>-0.131979</td>\n",
       "      <td>0.819596</td>\n",
       "      <td>1.448832</td>\n",
       "      <td>virginica</td>\n",
       "    </tr>\n",
       "    <tr>\n",
       "      <th>146</th>\n",
       "      <td>0.553333</td>\n",
       "      <td>-1.282963</td>\n",
       "      <td>0.705921</td>\n",
       "      <td>0.922303</td>\n",
       "      <td>virginica</td>\n",
       "    </tr>\n",
       "    <tr>\n",
       "      <th>147</th>\n",
       "      <td>0.795669</td>\n",
       "      <td>-0.131979</td>\n",
       "      <td>0.819596</td>\n",
       "      <td>1.053935</td>\n",
       "      <td>virginica</td>\n",
       "    </tr>\n",
       "    <tr>\n",
       "      <th>148</th>\n",
       "      <td>0.432165</td>\n",
       "      <td>0.788808</td>\n",
       "      <td>0.933271</td>\n",
       "      <td>1.448832</td>\n",
       "      <td>virginica</td>\n",
       "    </tr>\n",
       "    <tr>\n",
       "      <th>149</th>\n",
       "      <td>0.068662</td>\n",
       "      <td>-0.131979</td>\n",
       "      <td>0.762758</td>\n",
       "      <td>0.790671</td>\n",
       "      <td>virginica</td>\n",
       "    </tr>\n",
       "  </tbody>\n",
       "</table>\n",
       "<p>150 rows × 5 columns</p>\n",
       "</div>"
      ],
      "text/plain": [
       "     sepal_length  sepal_width  petal_length  petal_width    species\n",
       "0       -0.900681     1.019004     -1.340227    -1.315444     setosa\n",
       "1       -1.143017    -0.131979     -1.340227    -1.315444     setosa\n",
       "2       -1.385353     0.328414     -1.397064    -1.315444     setosa\n",
       "3       -1.506521     0.098217     -1.283389    -1.315444     setosa\n",
       "4       -1.021849     1.249201     -1.340227    -1.315444     setosa\n",
       "..            ...          ...           ...          ...        ...\n",
       "145      1.038005    -0.131979      0.819596     1.448832  virginica\n",
       "146      0.553333    -1.282963      0.705921     0.922303  virginica\n",
       "147      0.795669    -0.131979      0.819596     1.053935  virginica\n",
       "148      0.432165     0.788808      0.933271     1.448832  virginica\n",
       "149      0.068662    -0.131979      0.762758     0.790671  virginica\n",
       "\n",
       "[150 rows x 5 columns]"
      ]
     },
     "execution_count": 4,
     "metadata": {},
     "output_type": "execute_result"
    },
    {
     "data": {
      "application/javascript": [
       "\n",
       "            setTimeout(function() {\n",
       "                var nbb_cell_id = 4;\n",
       "                var nbb_unformatted_code = \"from sklearn.preprocessing import StandardScaler\\n\\nscaler = StandardScaler()\\nscaled_iris_df = scaler.fit_transform(iris_df.drop(columns=[\\\"species\\\"]))\\nscaled_iris_df = pd.DataFrame(scaled_iris_df, columns=iris_df.columns[:4])\\nscaled_iris_df[\\\"species\\\"] = iris_df[\\\"species\\\"]\\nscaled_iris_df\";\n",
       "                var nbb_formatted_code = \"from sklearn.preprocessing import StandardScaler\\n\\nscaler = StandardScaler()\\nscaled_iris_df = scaler.fit_transform(iris_df.drop(columns=[\\\"species\\\"]))\\nscaled_iris_df = pd.DataFrame(scaled_iris_df, columns=iris_df.columns[:4])\\nscaled_iris_df[\\\"species\\\"] = iris_df[\\\"species\\\"]\\nscaled_iris_df\";\n",
       "                var nbb_cells = Jupyter.notebook.get_cells();\n",
       "                for (var i = 0; i < nbb_cells.length; ++i) {\n",
       "                    if (nbb_cells[i].input_prompt_number == nbb_cell_id) {\n",
       "                        if (nbb_cells[i].get_text() == nbb_unformatted_code) {\n",
       "                             nbb_cells[i].set_text(nbb_formatted_code);\n",
       "                        }\n",
       "                        break;\n",
       "                    }\n",
       "                }\n",
       "            }, 500);\n",
       "            "
      ],
      "text/plain": [
       "<IPython.core.display.Javascript object>"
      ]
     },
     "metadata": {},
     "output_type": "display_data"
    }
   ],
   "source": [
    "from sklearn.preprocessing import StandardScaler\n",
    "\n",
    "scaler = StandardScaler()\n",
    "scaled_iris_df = scaler.fit_transform(iris_df.drop(columns=[\"species\"]))\n",
    "scaled_iris_df = pd.DataFrame(scaled_iris_df, columns=iris_df.columns[:4])\n",
    "scaled_iris_df[\"species\"] = iris_df[\"species\"]\n",
    "scaled_iris_df"
   ]
  },
  {
   "cell_type": "code",
   "execution_count": 5,
   "id": "c29306e2",
   "metadata": {},
   "outputs": [
    {
     "data": {
      "text/html": [
       "<div>\n",
       "<style scoped>\n",
       "    .dataframe tbody tr th:only-of-type {\n",
       "        vertical-align: middle;\n",
       "    }\n",
       "\n",
       "    .dataframe tbody tr th {\n",
       "        vertical-align: top;\n",
       "    }\n",
       "\n",
       "    .dataframe thead th {\n",
       "        text-align: right;\n",
       "    }\n",
       "</style>\n",
       "<table border=\"1\" class=\"dataframe\">\n",
       "  <thead>\n",
       "    <tr style=\"text-align: right;\">\n",
       "      <th></th>\n",
       "      <th>mean_sepal_length</th>\n",
       "      <th>std_sepal_length</th>\n",
       "      <th>mean_petal_length</th>\n",
       "      <th>std_petal_length</th>\n",
       "      <th>mean_sepal_width</th>\n",
       "      <th>std_sepal_width</th>\n",
       "      <th>mean_petal_width</th>\n",
       "      <th>std_petal_width</th>\n",
       "    </tr>\n",
       "    <tr>\n",
       "      <th>species</th>\n",
       "      <th></th>\n",
       "      <th></th>\n",
       "      <th></th>\n",
       "      <th></th>\n",
       "      <th></th>\n",
       "      <th></th>\n",
       "      <th></th>\n",
       "      <th></th>\n",
       "    </tr>\n",
       "  </thead>\n",
       "  <tbody>\n",
       "    <tr>\n",
       "      <th>setosa</th>\n",
       "      <td>-1.014579</td>\n",
       "      <td>0.427104</td>\n",
       "      <td>-1.304987</td>\n",
       "      <td>0.098706</td>\n",
       "      <td>0.853263</td>\n",
       "      <td>0.872594</td>\n",
       "      <td>-1.254893</td>\n",
       "      <td>0.138721</td>\n",
       "    </tr>\n",
       "    <tr>\n",
       "      <th>versicolor</th>\n",
       "      <td>0.112282</td>\n",
       "      <td>0.625434</td>\n",
       "      <td>0.285324</td>\n",
       "      <td>0.267085</td>\n",
       "      <td>-0.661432</td>\n",
       "      <td>0.722354</td>\n",
       "      <td>0.166734</td>\n",
       "      <td>0.260306</td>\n",
       "    </tr>\n",
       "    <tr>\n",
       "      <th>virginica</th>\n",
       "      <td>0.902297</td>\n",
       "      <td>0.770482</td>\n",
       "      <td>1.019663</td>\n",
       "      <td>0.313683</td>\n",
       "      <td>-0.191831</td>\n",
       "      <td>0.742377</td>\n",
       "      <td>1.088159</td>\n",
       "      <td>0.361528</td>\n",
       "    </tr>\n",
       "  </tbody>\n",
       "</table>\n",
       "</div>"
      ],
      "text/plain": [
       "            mean_sepal_length  std_sepal_length  mean_petal_length  \\\n",
       "species                                                              \n",
       "setosa              -1.014579          0.427104          -1.304987   \n",
       "versicolor           0.112282          0.625434           0.285324   \n",
       "virginica            0.902297          0.770482           1.019663   \n",
       "\n",
       "            std_petal_length  mean_sepal_width  std_sepal_width  \\\n",
       "species                                                           \n",
       "setosa              0.098706          0.853263         0.872594   \n",
       "versicolor          0.267085         -0.661432         0.722354   \n",
       "virginica           0.313683         -0.191831         0.742377   \n",
       "\n",
       "            mean_petal_width  std_petal_width  \n",
       "species                                        \n",
       "setosa             -1.254893         0.138721  \n",
       "versicolor          0.166734         0.260306  \n",
       "virginica           1.088159         0.361528  "
      ]
     },
     "execution_count": 5,
     "metadata": {},
     "output_type": "execute_result"
    },
    {
     "data": {
      "application/javascript": [
       "\n",
       "            setTimeout(function() {\n",
       "                var nbb_cell_id = 5;\n",
       "                var nbb_unformatted_code = \"scaled_iris_df.groupby([\\\"species\\\"]).agg(\\n    mean_sepal_length=pd.NamedAgg(column=\\\"sepal_length\\\", aggfunc=\\\"mean\\\"),\\n    std_sepal_length=pd.NamedAgg(column=\\\"sepal_length\\\", aggfunc=\\\"std\\\"),\\n    mean_petal_length=pd.NamedAgg(column=\\\"petal_length\\\", aggfunc=\\\"mean\\\"),\\n    std_petal_length=pd.NamedAgg(column=\\\"petal_length\\\", aggfunc=\\\"std\\\"),\\n    mean_sepal_width=pd.NamedAgg(column=\\\"sepal_width\\\", aggfunc=\\\"mean\\\"),\\n    std_sepal_width=pd.NamedAgg(column=\\\"sepal_width\\\", aggfunc=\\\"std\\\"),\\n    mean_petal_width=pd.NamedAgg(column=\\\"petal_width\\\", aggfunc=\\\"mean\\\"),\\n    std_petal_width=pd.NamedAgg(column=\\\"petal_width\\\", aggfunc=\\\"std\\\"),\\n)\";\n",
       "                var nbb_formatted_code = \"scaled_iris_df.groupby([\\\"species\\\"]).agg(\\n    mean_sepal_length=pd.NamedAgg(column=\\\"sepal_length\\\", aggfunc=\\\"mean\\\"),\\n    std_sepal_length=pd.NamedAgg(column=\\\"sepal_length\\\", aggfunc=\\\"std\\\"),\\n    mean_petal_length=pd.NamedAgg(column=\\\"petal_length\\\", aggfunc=\\\"mean\\\"),\\n    std_petal_length=pd.NamedAgg(column=\\\"petal_length\\\", aggfunc=\\\"std\\\"),\\n    mean_sepal_width=pd.NamedAgg(column=\\\"sepal_width\\\", aggfunc=\\\"mean\\\"),\\n    std_sepal_width=pd.NamedAgg(column=\\\"sepal_width\\\", aggfunc=\\\"std\\\"),\\n    mean_petal_width=pd.NamedAgg(column=\\\"petal_width\\\", aggfunc=\\\"mean\\\"),\\n    std_petal_width=pd.NamedAgg(column=\\\"petal_width\\\", aggfunc=\\\"std\\\"),\\n)\";\n",
       "                var nbb_cells = Jupyter.notebook.get_cells();\n",
       "                for (var i = 0; i < nbb_cells.length; ++i) {\n",
       "                    if (nbb_cells[i].input_prompt_number == nbb_cell_id) {\n",
       "                        if (nbb_cells[i].get_text() == nbb_unformatted_code) {\n",
       "                             nbb_cells[i].set_text(nbb_formatted_code);\n",
       "                        }\n",
       "                        break;\n",
       "                    }\n",
       "                }\n",
       "            }, 500);\n",
       "            "
      ],
      "text/plain": [
       "<IPython.core.display.Javascript object>"
      ]
     },
     "metadata": {},
     "output_type": "display_data"
    }
   ],
   "source": [
    "scaled_iris_df.groupby([\"species\"]).agg(\n",
    "    mean_sepal_length=pd.NamedAgg(column=\"sepal_length\", aggfunc=\"mean\"),\n",
    "    std_sepal_length=pd.NamedAgg(column=\"sepal_length\", aggfunc=\"std\"),\n",
    "    mean_petal_length=pd.NamedAgg(column=\"petal_length\", aggfunc=\"mean\"),\n",
    "    std_petal_length=pd.NamedAgg(column=\"petal_length\", aggfunc=\"std\"),\n",
    "    mean_sepal_width=pd.NamedAgg(column=\"sepal_width\", aggfunc=\"mean\"),\n",
    "    std_sepal_width=pd.NamedAgg(column=\"sepal_width\", aggfunc=\"std\"),\n",
    "    mean_petal_width=pd.NamedAgg(column=\"petal_width\", aggfunc=\"mean\"),\n",
    "    std_petal_width=pd.NamedAgg(column=\"petal_width\", aggfunc=\"std\"),\n",
    ")"
   ]
  },
  {
   "cell_type": "code",
   "execution_count": 6,
   "id": "b8cf1a3d",
   "metadata": {},
   "outputs": [
    {
     "data": {
      "application/javascript": [
       "\n",
       "            setTimeout(function() {\n",
       "                var nbb_cell_id = 6;\n",
       "                var nbb_unformatted_code = \"data = scaled_iris_df.drop(columns=[\\\"species\\\"]).values\";\n",
       "                var nbb_formatted_code = \"data = scaled_iris_df.drop(columns=[\\\"species\\\"]).values\";\n",
       "                var nbb_cells = Jupyter.notebook.get_cells();\n",
       "                for (var i = 0; i < nbb_cells.length; ++i) {\n",
       "                    if (nbb_cells[i].input_prompt_number == nbb_cell_id) {\n",
       "                        if (nbb_cells[i].get_text() == nbb_unformatted_code) {\n",
       "                             nbb_cells[i].set_text(nbb_formatted_code);\n",
       "                        }\n",
       "                        break;\n",
       "                    }\n",
       "                }\n",
       "            }, 500);\n",
       "            "
      ],
      "text/plain": [
       "<IPython.core.display.Javascript object>"
      ]
     },
     "metadata": {},
     "output_type": "display_data"
    }
   ],
   "source": [
    "data = scaled_iris_df.drop(columns=[\"species\"]).values"
   ]
  },
  {
   "cell_type": "code",
   "execution_count": null,
   "id": "1faa99eb",
   "metadata": {},
   "outputs": [],
   "source": [
    "n_clusters = 4\n",
    "n_observations, n_features = data.shape\n",
    "with pm.Model() as model:\n",
    "    chol, corr, stds = pm.LKJCholeskyCov(\n",
    "        \"chol\",\n",
    "        n=n_features,\n",
    "        eta=2.0,\n",
    "        sd_dist=pm.Exponential.dist(1.0),\n",
    "        compute_corr=True,\n",
    "    )\n",
    "    cov = pm.Deterministic(\"cov\", chol.dot(chol.T))\n",
    "    μ = pm.Normal(\n",
    "        \"μ\", 0.0, 1.5, shape=(n_clusters, n_features), testval=data.mean(axis=0)\n",
    "    )\n",
    "\n",
    "    p = pm.Dirichlet(\"p\", a=np.ones(n_clusters))\n",
    "    category = pm.Categorical(\"category\", p=p, shape=n_observations)\n",
    "\n",
    "    obs = pm.MvNormal(\"obs\", μ[category], chol=chol, observed=data)\n",
    "\n",
    "    trace = pm.sample(8000)\n"
   ]
  },
  {
   "cell_type": "code",
   "execution_count": null,
   "id": "a03ea07a",
   "metadata": {},
   "outputs": [],
   "source": [
    "with model:\n",
    "    pm.plot_trace(trace[1000:])"
   ]
  },
  {
   "cell_type": "code",
   "execution_count": null,
   "id": "90fcac23",
   "metadata": {},
   "outputs": [],
   "source": [
    "groups = [\n",
    "    f\"Group {n+1}\"\n",
    "    for n in list(trace.get_values(\"category\", burn=6000, combine=False)[2][1400])\n",
    "]\n",
    "iris_df[\"group\"] = groups\n",
    "iris_df"
   ]
  },
  {
   "cell_type": "code",
   "execution_count": null,
   "id": "8e4f61a9",
   "metadata": {},
   "outputs": [],
   "source": [
    "plot_df = (\n",
    "    iris_df.groupby([\"species\", \"group\"])\n",
    "    .count()[[\"sepal_length\"]]\n",
    "    .reset_index()\n",
    "    .rename(columns={\"sepal_length\": \"count\"})\n",
    ")\n",
    "_ = sns.barplot(data=plot_df, x=\"species\", y=\"count\", hue=\"group\")"
   ]
  },
  {
   "cell_type": "code",
   "execution_count": null,
   "id": "5e0b0c3a",
   "metadata": {},
   "outputs": [],
   "source": [
    "_ = sns.scatterplot(data=iris_df, x='sepal_length', y='petal_width', hue='group', style='species')\n"
   ]
  },
  {
   "cell_type": "code",
   "execution_count": null,
   "id": "d5fca51f",
   "metadata": {},
   "outputs": [],
   "source": [
    "_ = sns.barplot(data=plot_df, x=\"group\", y=\"count\", hue=\"species\")"
   ]
  },
  {
   "cell_type": "code",
   "execution_count": null,
   "id": "7f9f007b",
   "metadata": {},
   "outputs": [],
   "source": [
    "with model:\n",
    "    stats_df = az.from_pymc3(trace[6000:])\n",
    "\n",
    "stats_df"
   ]
  },
  {
   "cell_type": "code",
   "execution_count": 8,
   "id": "bdb25334",
   "metadata": {},
   "outputs": [
    {
     "name": "stdout",
     "output_type": "stream",
     "text": [
      "Building model with 2 cluster and 8000 samples.\n"
     ]
    },
    {
     "name": "stderr",
     "output_type": "stream",
     "text": [
      "C:\\Git\\MixedModels\\dmvgm.py:26: FutureWarning: In v4.0, pm.sample will return an `arviz.InferenceData` object instead of a `MultiTrace` by default. You can pass return_inferencedata=True or return_inferencedata=False to be safe and silence this warning.\n",
      "  trace = pm.sample(samples)\n",
      "Multiprocess sampling (4 chains in 4 jobs)\n",
      "CompoundStep\n",
      ">NUTS: [p, μ, chol]\n",
      ">BinaryGibbsMetropolis: [category]\n"
     ]
    },
    {
     "data": {
      "text/html": [
       "\n",
       "    <div>\n",
       "        <style>\n",
       "            /* Turns off some styling */\n",
       "            progress {\n",
       "                /* gets rid of default border in Firefox and Opera. */\n",
       "                border: none;\n",
       "                /* Needs to be in here for Safari polyfill so background images work as expected. */\n",
       "                background-size: auto;\n",
       "            }\n",
       "            .progress-bar-interrupted, .progress-bar-interrupted::-webkit-progress-bar {\n",
       "                background: #F44336;\n",
       "            }\n",
       "        </style>\n",
       "      <progress value='36000' class='' max='36000' style='width:300px; height:20px; vertical-align: middle;'></progress>\n",
       "      100.00% [36000/36000 06:53<00:00 Sampling 4 chains, 1,767 divergences]\n",
       "    </div>\n",
       "    "
      ],
      "text/plain": [
       "<IPython.core.display.HTML object>"
      ]
     },
     "metadata": {},
     "output_type": "display_data"
    },
    {
     "name": "stderr",
     "output_type": "stream",
     "text": [
      "Sampling 4 chains for 1_000 tune and 8_000 draw iterations (4_000 + 32_000 draws total) took 426 seconds.\n",
      "There were 1723 divergences after tuning. Increase `target_accept` or reparameterize.\n",
      "The acceptance probability does not match the target. It is 0.6767532792026429, but should be close to 0.8. Try to increase the number of tuning steps.\n",
      "There were 44 divergences after tuning. Increase `target_accept` or reparameterize.\n",
      "The rhat statistic is larger than 1.4 for some parameters. The sampler did not converge.\n",
      "The estimated number of effective samples is smaller than 200 for some parameters.\n"
     ]
    },
    {
     "name": "stdout",
     "output_type": "stream",
     "text": [
      "Building model with 3 cluster and 8000 samples.\n"
     ]
    },
    {
     "name": "stderr",
     "output_type": "stream",
     "text": [
      "C:\\Git\\MixedModels\\dmvgm.py:26: FutureWarning: In v4.0, pm.sample will return an `arviz.InferenceData` object instead of a `MultiTrace` by default. You can pass return_inferencedata=True or return_inferencedata=False to be safe and silence this warning.\n",
      "  trace = pm.sample(samples)\n",
      "Multiprocess sampling (4 chains in 4 jobs)\n",
      "CompoundStep\n",
      ">NUTS: [p, μ, chol]\n",
      ">CategoricalGibbsMetropolis: [category]\n"
     ]
    },
    {
     "data": {
      "text/html": [
       "\n",
       "    <div>\n",
       "        <style>\n",
       "            /* Turns off some styling */\n",
       "            progress {\n",
       "                /* gets rid of default border in Firefox and Opera. */\n",
       "                border: none;\n",
       "                /* Needs to be in here for Safari polyfill so background images work as expected. */\n",
       "                background-size: auto;\n",
       "            }\n",
       "            .progress-bar-interrupted, .progress-bar-interrupted::-webkit-progress-bar {\n",
       "                background: #F44336;\n",
       "            }\n",
       "        </style>\n",
       "      <progress value='36000' class='' max='36000' style='width:300px; height:20px; vertical-align: middle;'></progress>\n",
       "      100.00% [36000/36000 07:36<00:00 Sampling 4 chains, 0 divergences]\n",
       "    </div>\n",
       "    "
      ],
      "text/plain": [
       "<IPython.core.display.HTML object>"
      ]
     },
     "metadata": {},
     "output_type": "display_data"
    },
    {
     "name": "stderr",
     "output_type": "stream",
     "text": [
      "Sampling 4 chains for 1_000 tune and 8_000 draw iterations (4_000 + 32_000 draws total) took 469 seconds.\n",
      "The rhat statistic is larger than 1.4 for some parameters. The sampler did not converge.\n",
      "The estimated number of effective samples is smaller than 200 for some parameters.\n"
     ]
    },
    {
     "name": "stdout",
     "output_type": "stream",
     "text": [
      "Building model with 4 cluster and 8000 samples.\n"
     ]
    },
    {
     "name": "stderr",
     "output_type": "stream",
     "text": [
      "C:\\Git\\MixedModels\\dmvgm.py:26: FutureWarning: In v4.0, pm.sample will return an `arviz.InferenceData` object instead of a `MultiTrace` by default. You can pass return_inferencedata=True or return_inferencedata=False to be safe and silence this warning.\n",
      "  trace = pm.sample(samples)\n",
      "Multiprocess sampling (4 chains in 4 jobs)\n",
      "CompoundStep\n",
      ">NUTS: [p, μ, chol]\n",
      ">CategoricalGibbsMetropolis: [category]\n"
     ]
    },
    {
     "data": {
      "text/html": [
       "\n",
       "    <div>\n",
       "        <style>\n",
       "            /* Turns off some styling */\n",
       "            progress {\n",
       "                /* gets rid of default border in Firefox and Opera. */\n",
       "                border: none;\n",
       "                /* Needs to be in here for Safari polyfill so background images work as expected. */\n",
       "                background-size: auto;\n",
       "            }\n",
       "            .progress-bar-interrupted, .progress-bar-interrupted::-webkit-progress-bar {\n",
       "                background: #F44336;\n",
       "            }\n",
       "        </style>\n",
       "      <progress value='36000' class='' max='36000' style='width:300px; height:20px; vertical-align: middle;'></progress>\n",
       "      100.00% [36000/36000 07:29<00:00 Sampling 4 chains, 0 divergences]\n",
       "    </div>\n",
       "    "
      ],
      "text/plain": [
       "<IPython.core.display.HTML object>"
      ]
     },
     "metadata": {},
     "output_type": "display_data"
    },
    {
     "name": "stderr",
     "output_type": "stream",
     "text": [
      "Sampling 4 chains for 1_000 tune and 8_000 draw iterations (4_000 + 32_000 draws total) took 461 seconds.\n",
      "C:\\Users\\Sebastian\\.conda\\envs\\pymc3\\lib\\site-packages\\arviz\\stats\\diagnostics.py:561: RuntimeWarning: invalid value encountered in double_scalars\n",
      "  (between_chain_variance / within_chain_variance + num_samples - 1) / (num_samples)\n",
      "The rhat statistic is larger than 1.4 for some parameters. The sampler did not converge.\n",
      "The estimated number of effective samples is smaller than 200 for some parameters.\n"
     ]
    },
    {
     "name": "stdout",
     "output_type": "stream",
     "text": [
      "Building model with 5 cluster and 8000 samples.\n"
     ]
    },
    {
     "name": "stderr",
     "output_type": "stream",
     "text": [
      "C:\\Git\\MixedModels\\dmvgm.py:26: FutureWarning: In v4.0, pm.sample will return an `arviz.InferenceData` object instead of a `MultiTrace` by default. You can pass return_inferencedata=True or return_inferencedata=False to be safe and silence this warning.\n",
      "  trace = pm.sample(samples)\n",
      "Multiprocess sampling (4 chains in 4 jobs)\n",
      "CompoundStep\n",
      ">NUTS: [p, μ, chol]\n",
      ">CategoricalGibbsMetropolis: [category]\n"
     ]
    },
    {
     "data": {
      "text/html": [
       "\n",
       "    <div>\n",
       "        <style>\n",
       "            /* Turns off some styling */\n",
       "            progress {\n",
       "                /* gets rid of default border in Firefox and Opera. */\n",
       "                border: none;\n",
       "                /* Needs to be in here for Safari polyfill so background images work as expected. */\n",
       "                background-size: auto;\n",
       "            }\n",
       "            .progress-bar-interrupted, .progress-bar-interrupted::-webkit-progress-bar {\n",
       "                background: #F44336;\n",
       "            }\n",
       "        </style>\n",
       "      <progress value='36000' class='' max='36000' style='width:300px; height:20px; vertical-align: middle;'></progress>\n",
       "      100.00% [36000/36000 08:00<00:00 Sampling 4 chains, 11,799 divergences]\n",
       "    </div>\n",
       "    "
      ],
      "text/plain": [
       "<IPython.core.display.HTML object>"
      ]
     },
     "metadata": {},
     "output_type": "display_data"
    },
    {
     "name": "stderr",
     "output_type": "stream",
     "text": [
      "Sampling 4 chains for 1_000 tune and 8_000 draw iterations (4_000 + 32_000 draws total) took 494 seconds.\n",
      "There were 7547 divergences after tuning. Increase `target_accept` or reparameterize.\n",
      "The acceptance probability does not match the target. It is 0.03963479415510302, but should be close to 0.8. Try to increase the number of tuning steps.\n",
      "There were 2118 divergences after tuning. Increase `target_accept` or reparameterize.\n",
      "The acceptance probability does not match the target. It is 0.6291825600980298, but should be close to 0.8. Try to increase the number of tuning steps.\n",
      "There were 2134 divergences after tuning. Increase `target_accept` or reparameterize.\n",
      "The acceptance probability does not match the target. It is 0.6285690346033307, but should be close to 0.8. Try to increase the number of tuning steps.\n",
      "The rhat statistic is larger than 1.4 for some parameters. The sampler did not converge.\n",
      "The estimated number of effective samples is smaller than 200 for some parameters.\n",
      "C:\\Users\\Sebastian\\.conda\\envs\\pymc3\\lib\\site-packages\\arviz\\stats\\stats.py:145: UserWarning: The default method used to estimate the weights for each model,has changed from BB-pseudo-BMA to stacking\n",
      "  warnings.warn(\n",
      "C:\\Users\\Sebastian\\.conda\\envs\\pymc3\\lib\\site-packages\\arviz\\data\\io_pymc3.py:96: FutureWarning: Using `from_pymc3` without the model will be deprecated in a future release. Not using the model will return less accurate and less useful results. Make sure you use the model argument or call from_pymc3 within a model context.\n",
      "  warnings.warn(\n",
      "C:\\Users\\Sebastian\\.conda\\envs\\pymc3\\lib\\site-packages\\arviz\\stats\\stats.py:876: RuntimeWarning: overflow encountered in exp\n",
      "  weights = 1 / np.exp(len_scale - len_scale[:, None]).sum(axis=1)\n",
      "C:\\Users\\Sebastian\\.conda\\envs\\pymc3\\lib\\site-packages\\numpy\\core\\_methods.py:47: RuntimeWarning: overflow encountered in reduce\n",
      "  return umr_sum(a, axis, dtype, out, keepdims, initial, where)\n",
      "C:\\Users\\Sebastian\\.conda\\envs\\pymc3\\lib\\site-packages\\arviz\\stats\\stats.py:655: UserWarning: Estimated shape parameter of Pareto distribution is greater than 0.7 for one or more samples. You should consider using a more robust model, this is because importance sampling is less likely to work well if the marginal posterior and LOO posterior are very different. This is more likely to happen with a non-robust model and highly influential observations.\n",
      "  warnings.warn(\n",
      "C:\\Users\\Sebastian\\.conda\\envs\\pymc3\\lib\\site-packages\\arviz\\data\\io_pymc3.py:96: FutureWarning: Using `from_pymc3` without the model will be deprecated in a future release. Not using the model will return less accurate and less useful results. Make sure you use the model argument or call from_pymc3 within a model context.\n",
      "  warnings.warn(\n",
      "C:\\Users\\Sebastian\\.conda\\envs\\pymc3\\lib\\site-packages\\arviz\\stats\\stats.py:876: RuntimeWarning: overflow encountered in exp\n",
      "  weights = 1 / np.exp(len_scale - len_scale[:, None]).sum(axis=1)\n",
      "C:\\Users\\Sebastian\\.conda\\envs\\pymc3\\lib\\site-packages\\numpy\\core\\_methods.py:47: RuntimeWarning: overflow encountered in reduce\n",
      "  return umr_sum(a, axis, dtype, out, keepdims, initial, where)\n",
      "C:\\Users\\Sebastian\\.conda\\envs\\pymc3\\lib\\site-packages\\arviz\\stats\\stats.py:655: UserWarning: Estimated shape parameter of Pareto distribution is greater than 0.7 for one or more samples. You should consider using a more robust model, this is because importance sampling is less likely to work well if the marginal posterior and LOO posterior are very different. This is more likely to happen with a non-robust model and highly influential observations.\n",
      "  warnings.warn(\n",
      "C:\\Users\\Sebastian\\.conda\\envs\\pymc3\\lib\\site-packages\\arviz\\data\\io_pymc3.py:96: FutureWarning: Using `from_pymc3` without the model will be deprecated in a future release. Not using the model will return less accurate and less useful results. Make sure you use the model argument or call from_pymc3 within a model context.\n",
      "  warnings.warn(\n",
      "C:\\Users\\Sebastian\\.conda\\envs\\pymc3\\lib\\site-packages\\arviz\\stats\\stats.py:876: RuntimeWarning: overflow encountered in exp\n",
      "  weights = 1 / np.exp(len_scale - len_scale[:, None]).sum(axis=1)\n",
      "C:\\Users\\Sebastian\\.conda\\envs\\pymc3\\lib\\site-packages\\numpy\\core\\_methods.py:47: RuntimeWarning: overflow encountered in reduce\n",
      "  return umr_sum(a, axis, dtype, out, keepdims, initial, where)\n",
      "C:\\Users\\Sebastian\\.conda\\envs\\pymc3\\lib\\site-packages\\arviz\\stats\\stats.py:655: UserWarning: Estimated shape parameter of Pareto distribution is greater than 0.7 for one or more samples. You should consider using a more robust model, this is because importance sampling is less likely to work well if the marginal posterior and LOO posterior are very different. This is more likely to happen with a non-robust model and highly influential observations.\n",
      "  warnings.warn(\n",
      "C:\\Users\\Sebastian\\.conda\\envs\\pymc3\\lib\\site-packages\\arviz\\data\\io_pymc3.py:96: FutureWarning: Using `from_pymc3` without the model will be deprecated in a future release. Not using the model will return less accurate and less useful results. Make sure you use the model argument or call from_pymc3 within a model context.\n",
      "  warnings.warn(\n",
      "C:\\Users\\Sebastian\\.conda\\envs\\pymc3\\lib\\site-packages\\arviz\\stats\\stats.py:876: RuntimeWarning: overflow encountered in exp\n",
      "  weights = 1 / np.exp(len_scale - len_scale[:, None]).sum(axis=1)\n",
      "C:\\Users\\Sebastian\\.conda\\envs\\pymc3\\lib\\site-packages\\numpy\\core\\_methods.py:47: RuntimeWarning: overflow encountered in reduce\n",
      "  return umr_sum(a, axis, dtype, out, keepdims, initial, where)\n",
      "C:\\Users\\Sebastian\\.conda\\envs\\pymc3\\lib\\site-packages\\arviz\\stats\\stats.py:655: UserWarning: Estimated shape parameter of Pareto distribution is greater than 0.7 for one or more samples. You should consider using a more robust model, this is because importance sampling is less likely to work well if the marginal posterior and LOO posterior are very different. This is more likely to happen with a non-robust model and highly influential observations.\n",
      "  warnings.warn(\n"
     ]
    },
    {
     "data": {
      "text/html": [
       "<div>\n",
       "<style scoped>\n",
       "    .dataframe tbody tr th:only-of-type {\n",
       "        vertical-align: middle;\n",
       "    }\n",
       "\n",
       "    .dataframe tbody tr th {\n",
       "        vertical-align: top;\n",
       "    }\n",
       "\n",
       "    .dataframe thead th {\n",
       "        text-align: right;\n",
       "    }\n",
       "</style>\n",
       "<table border=\"1\" class=\"dataframe\">\n",
       "  <thead>\n",
       "    <tr style=\"text-align: right;\">\n",
       "      <th></th>\n",
       "      <th>rank</th>\n",
       "      <th>loo</th>\n",
       "      <th>p_loo</th>\n",
       "      <th>d_loo</th>\n",
       "      <th>weight</th>\n",
       "      <th>se</th>\n",
       "      <th>dse</th>\n",
       "      <th>warning</th>\n",
       "      <th>loo_scale</th>\n",
       "    </tr>\n",
       "  </thead>\n",
       "  <tbody>\n",
       "    <tr>\n",
       "      <th>model_5_clusters</th>\n",
       "      <td>0</td>\n",
       "      <td>-209.618464</td>\n",
       "      <td>97.642757</td>\n",
       "      <td>0.000000</td>\n",
       "      <td>7.941642e-01</td>\n",
       "      <td>21.188884</td>\n",
       "      <td>0.000000</td>\n",
       "      <td>True</td>\n",
       "      <td>log</td>\n",
       "    </tr>\n",
       "    <tr>\n",
       "      <th>model_4_clusters</th>\n",
       "      <td>1</td>\n",
       "      <td>-214.980547</td>\n",
       "      <td>71.214702</td>\n",
       "      <td>5.362083</td>\n",
       "      <td>2.058358e-01</td>\n",
       "      <td>21.099624</td>\n",
       "      <td>4.429627</td>\n",
       "      <td>True</td>\n",
       "      <td>log</td>\n",
       "    </tr>\n",
       "    <tr>\n",
       "      <th>model_3_clusters</th>\n",
       "      <td>2</td>\n",
       "      <td>-284.203400</td>\n",
       "      <td>85.032008</td>\n",
       "      <td>74.584937</td>\n",
       "      <td>6.795874e-11</td>\n",
       "      <td>21.533758</td>\n",
       "      <td>9.150377</td>\n",
       "      <td>True</td>\n",
       "      <td>log</td>\n",
       "    </tr>\n",
       "    <tr>\n",
       "      <th>model_2_clusters</th>\n",
       "      <td>3</td>\n",
       "      <td>-471.380287</td>\n",
       "      <td>93.652148</td>\n",
       "      <td>261.761823</td>\n",
       "      <td>0.000000e+00</td>\n",
       "      <td>16.617773</td>\n",
       "      <td>12.822475</td>\n",
       "      <td>True</td>\n",
       "      <td>log</td>\n",
       "    </tr>\n",
       "  </tbody>\n",
       "</table>\n",
       "</div>"
      ],
      "text/plain": [
       "                  rank         loo      p_loo       d_loo        weight  \\\n",
       "model_5_clusters     0 -209.618464  97.642757    0.000000  7.941642e-01   \n",
       "model_4_clusters     1 -214.980547  71.214702    5.362083  2.058358e-01   \n",
       "model_3_clusters     2 -284.203400  85.032008   74.584937  6.795874e-11   \n",
       "model_2_clusters     3 -471.380287  93.652148  261.761823  0.000000e+00   \n",
       "\n",
       "                         se        dse  warning loo_scale  \n",
       "model_5_clusters  21.188884   0.000000     True       log  \n",
       "model_4_clusters  21.099624   4.429627     True       log  \n",
       "model_3_clusters  21.533758   9.150377     True       log  \n",
       "model_2_clusters  16.617773  12.822475     True       log  "
      ]
     },
     "execution_count": 8,
     "metadata": {},
     "output_type": "execute_result"
    },
    {
     "data": {
      "application/javascript": [
       "\n",
       "            setTimeout(function() {\n",
       "                var nbb_cell_id = 8;\n",
       "                var nbb_unformatted_code = \"from dmvgm import run_model\\n\\nmodel_traces = {\\n    f\\\"model_{i}_clusters\\\": run_model(data, i, samples=8000) for i in range(2, 6)\\n}\\ncomp = az.compare({k: v[1] for k, v in model_traces.items()})\\ncomp\";\n",
       "                var nbb_formatted_code = \"from dmvgm import run_model\\n\\nmodel_traces = {\\n    f\\\"model_{i}_clusters\\\": run_model(data, i, samples=8000) for i in range(2, 6)\\n}\\ncomp = az.compare({k: v[1] for k, v in model_traces.items()})\\ncomp\";\n",
       "                var nbb_cells = Jupyter.notebook.get_cells();\n",
       "                for (var i = 0; i < nbb_cells.length; ++i) {\n",
       "                    if (nbb_cells[i].input_prompt_number == nbb_cell_id) {\n",
       "                        if (nbb_cells[i].get_text() == nbb_unformatted_code) {\n",
       "                             nbb_cells[i].set_text(nbb_formatted_code);\n",
       "                        }\n",
       "                        break;\n",
       "                    }\n",
       "                }\n",
       "            }, 500);\n",
       "            "
      ],
      "text/plain": [
       "<IPython.core.display.Javascript object>"
      ]
     },
     "metadata": {},
     "output_type": "display_data"
    }
   ],
   "source": [
    "from dmvgm import run_model\n",
    "\n",
    "model_traces = {\n",
    "    f\"model_{i}_clusters\": run_model(data, i, samples=8000) for i in range(2, 6)\n",
    "}\n",
    "comp = az.compare({k: v[1] for k, v in model_traces.items()})\n",
    "comp"
   ]
  },
  {
   "cell_type": "code",
   "execution_count": 9,
   "id": "71306308",
   "metadata": {},
   "outputs": [
    {
     "data": {
      "image/png": "[encoded data removed]",
      "text/plain": [
       "<Figure size 432x288 with 1 Axes>"
      ]
     },
     "metadata": {
      "needs_background": "light"
     },
     "output_type": "display_data"
    },
    {
     "data": {
      "application/javascript": [
       "\n",
       "            setTimeout(function() {\n",
       "                var nbb_cell_id = 9;\n",
       "                var nbb_unformatted_code = \"_ = az.plot_compare(comp)\";\n",
       "                var nbb_formatted_code = \"_ = az.plot_compare(comp)\";\n",
       "                var nbb_cells = Jupyter.notebook.get_cells();\n",
       "                for (var i = 0; i < nbb_cells.length; ++i) {\n",
       "                    if (nbb_cells[i].input_prompt_number == nbb_cell_id) {\n",
       "                        if (nbb_cells[i].get_text() == nbb_unformatted_code) {\n",
       "                             nbb_cells[i].set_text(nbb_formatted_code);\n",
       "                        }\n",
       "                        break;\n",
       "                    }\n",
       "                }\n",
       "            }, 500);\n",
       "            "
      ],
      "text/plain": [
       "<IPython.core.display.Javascript object>"
      ]
     },
     "metadata": {},
     "output_type": "display_data"
    }
   ],
   "source": [
    "_ = az.plot_compare(comp)"
   ]
  }
 ],
 "metadata": {
  "kernelspec": {
   "display_name": "Python 3",
   "language": "python",
   "name": "python3"
  },
  "language_info": {
   "codemirror_mode": {
    "name": "ipython",
    "version": 3
   },
   "file_extension": ".py",
   "mimetype": "text/x-python",
   "name": "python",
   "nbconvert_exporter": "python",
   "pygments_lexer": "ipython3",
   "version": "3.9.5"
  }
 },
 "nbformat": 4,
 "nbformat_minor": 5
}
